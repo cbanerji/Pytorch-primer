{
 "cells": [
  {
   "cell_type": "code",
   "execution_count": 1,
   "metadata": {},
   "outputs": [],
   "source": [
    "# Pytorch basics:"
   ]
  },
  {
   "cell_type": "code",
   "execution_count": 67,
   "metadata": {},
   "outputs": [],
   "source": [
    "import torch "
   ]
  },
  {
   "cell_type": "code",
   "execution_count": 8,
   "metadata": {},
   "outputs": [
    {
     "name": "stdout",
     "output_type": "stream",
     "text": [
      "\n",
      " 1D tensor : tensor([0., 0.]) \n",
      " 2D tensor: tensor([[0., 0., 0.],\n",
      "        [0., 0., 0.]]) \n",
      " 3D tensor: tensor([[[-1.3753e+28,  3.0794e-41,  2.8026e-45,  0.0000e+00,  4.2039e-45],\n",
      "         [ 0.0000e+00,  0.0000e+00,  0.0000e+00,  0.0000e+00,  0.0000e+00],\n",
      "         [ 0.0000e+00,  0.0000e+00, -1.3754e+28,  3.0794e-41, -1.3754e+28]],\n",
      "\n",
      "        [[ 3.0794e-41, -1.3754e+28,  3.0794e-41,  4.2039e-45,  0.0000e+00],\n",
      "         [ 1.4013e-45,  0.0000e+00,  0.0000e+00,  0.0000e+00,  0.0000e+00],\n",
      "         [ 0.0000e+00,  0.0000e+00,  0.0000e+00,  0.0000e+00,  0.0000e+00]]])\n"
     ]
    }
   ],
   "source": [
    "# Create empty tensors\n",
    "p = torch.empty(2) # parenthesized no. specifies elements in each dimension.\n",
    "q = torch.empty(2,3)\n",
    "r = torch.empty(2,3,5)\n",
    "print(\"\\n 1D tensor : %s \\n 2D tensor: %s \\n 3D tensor: %s\" %(p,q,r))"
   ]
  },
  {
   "cell_type": "code",
   "execution_count": 22,
   "metadata": {},
   "outputs": [
    {
     "name": "stdout",
     "output_type": "stream",
     "text": [
      "\n",
      " dtype of a: torch.float32 \n",
      " dtype of b: torch.int32\n"
     ]
    }
   ],
   "source": [
    "# Generate random numbers & check-change its datatype\n",
    "a = torch.rand(2,2) # creates a 2D tensor of random numbers\n",
    "b = torch.rand(2,2).int()\n",
    "print(\"\\n dtype of a: %s \\n dtype of b: %s\" %(a.dtype, b.dtype))"
   ]
  },
  {
   "cell_type": "code",
   "execution_count": 25,
   "metadata": {},
   "outputs": [
    {
     "data": {
      "text/plain": [
       "torch.int32"
      ]
     },
     "execution_count": 25,
     "metadata": {},
     "output_type": "execute_result"
    }
   ],
   "source": [
    "# datatypes can also be specified with the tensor\n",
    "a = torch.ones(3,4, dtype=torch.int)\n",
    "a.dtype"
   ]
  },
  {
   "cell_type": "code",
   "execution_count": 34,
   "metadata": {},
   "outputs": [
    {
     "name": "stdout",
     "output_type": "stream",
     "text": [
      "tensor([1, 2]) + tensor([16, 16]) = tensor([17, 18])\n",
      "Result of inplace operation: tensor([17, 18])\n"
     ]
    }
   ],
   "source": [
    "# Arithmetic operation and inplace operation\n",
    "a = torch.randint(10,(2,))\n",
    "b = torch.randint(20,(2,))\n",
    "c = torch.add(a,b)\n",
    "print(\"%s + %s = %s\" %(a,b,c))\n",
    "\n",
    "# using inplace operation to do the same\n",
    "a.add_(b) # the sum is stored at 'a'\n",
    "print('Result of inplace operation: '+str(a))"
   ]
  },
  {
   "cell_type": "code",
   "execution_count": 51,
   "metadata": {},
   "outputs": [
    {
     "name": "stdout",
     "output_type": "stream",
     "text": [
      "tensor([[8, 6, 5, 2],\n",
      "        [6, 6, 8, 2]])\n",
      "tensor([6, 6, 8, 2])\n",
      "tensor([6, 6])\n",
      "tensor(2)\n",
      "2\n",
      "[[8 6 5 2]\n",
      " [6 6 8 2]]\n"
     ]
    }
   ],
   "source": [
    "# indexing elements from a tensor\n",
    "a = torch.randint(10,(2,4))\n",
    "print(a)\n",
    "print(a[1,:]) # select the 2nd row\n",
    "print(a[:,1]) # select the 2nd column\n",
    "print(a[1,3]) # select a specific element\n",
    "print(a[1,3].item()) # use .item method to get the content of a single element tensor\n",
    "print(a.detach().numpy()) # to get content of a multi-element/ dimensional tensor"
   ]
  },
  {
   "cell_type": "code",
   "execution_count": 56,
   "metadata": {},
   "outputs": [
    {
     "name": "stdout",
     "output_type": "stream",
     "text": [
      "\n",
      " b: tensor([[4, 5, 9, 6],\n",
      "        [9, 0, 4, 0]]) \n",
      " b.view(8): tensor([4, 5, 9, 6, 9, 0, 4, 0]) \n",
      " b.view(-1,6): tensor([[4, 5, 9, 6],\n",
      "        [9, 0, 4, 0]])\n"
     ]
    }
   ],
   "source": [
    "# Reshaping tensors using view() method\n",
    "b = torch.randint(10,(2,4)) \n",
    "print(\"\\n b: %s \\n b.view(8): %s \\n b.view(-1,6): %s\" %(b, b.view(8), b.view(-1,4)))\n"
   ]
  },
  {
   "cell_type": "code",
   "execution_count": 62,
   "metadata": {},
   "outputs": [],
   "source": [
    "# Intro to Autograd:\n",
    "\n",
    "# Autograd: performs automatic differentiation in Pytorch.\n",
    "# For model training we work with two passes through the Neural Network: \n",
    "# 1) The forward pass: predicts about the target label, based on its current network weights.\n",
    "# 2) Backward pass: propagates the difference between the target and predicted labels(the error) backward through the network.\n",
    "#    It collects the derivatives of the error w.r.t. the parameters of the functions (gradients), and optimizing the parameters using gradient descent.\n"
   ]
  },
  {
   "cell_type": "code",
   "execution_count": 89,
   "metadata": {},
   "outputs": [
    {
     "name": "stdout",
     "output_type": "stream",
     "text": [
      "tensor([108., 432.], grad_fn=<MulBackward0>)\n"
     ]
    }
   ],
   "source": [
    "# To enable autograd tracking we need to set 'requires_grad' flag to 'True' for each tensor.\n",
    "a = torch.tensor([2.,4.], requires_grad = True)\n",
    "b = torch.tensor([6.,9.], requires_grad = True)\n",
    "\n",
    "# Assuming a and b be parameters of the NN and Q be the error\n",
    "Q = 9*a**3 - b**2\n",
    "\n",
    "# in NN learning we need to take the gradient of error w.r.t the parameters i.e. dQ/da and dQ/db\n",
    "external_grad = torch.tensor([1., 1.])\n",
    "Q.backward(gradient=external_grad)\n",
    "\n",
    "print(27*a**2 == a.grad) #Check if correct"
   ]
  },
  {
   "cell_type": "code",
   "execution_count": null,
   "metadata": {},
   "outputs": [],
   "source": []
  }
 ],
 "metadata": {
  "kernelspec": {
   "display_name": "Python 3",
   "language": "python",
   "name": "python3"
  },
  "language_info": {
   "codemirror_mode": {
    "name": "ipython",
    "version": 3
   },
   "file_extension": ".py",
   "mimetype": "text/x-python",
   "name": "python",
   "nbconvert_exporter": "python",
   "pygments_lexer": "ipython3",
   "version": "3.6.10"
  }
 },
 "nbformat": 4,
 "nbformat_minor": 4
}
