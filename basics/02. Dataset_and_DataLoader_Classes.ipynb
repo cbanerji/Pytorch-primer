{
 "cells": [
  {
   "cell_type": "code",
   "execution_count": 1,
   "metadata": {},
   "outputs": [],
   "source": [
    "# Pytorch Dataset and Dataloader Classes\n",
    "\n",
    "# They are essential for dealing with large datasets where instead of training the networks\n",
    "# with the whole data we do a batch based training. The data is divided into batches and \n",
    "# trained over a cetain number of epochs."
   ]
  },
  {
   "cell_type": "code",
   "execution_count": 2,
   "metadata": {},
   "outputs": [],
   "source": [
    "# Basic terminology:\n",
    "\n",
    "# Epoch= a single forward and backward pass of all training samples.\n",
    "# batch_size = no. of training samples used for one forward-backward pass\n",
    "# iterations: total no. of passes, each pass using 'batch_size' no. of samples\n",
    "\n",
    "# E.g. with total samples = 100, batch_size = 20, so iterations = 100/20 = 5, for 1 epoch."
   ]
  },
  {
   "cell_type": "code",
   "execution_count": 6,
   "metadata": {},
   "outputs": [],
   "source": [
    "# Following is a dummy code, showing the usage of the dataset and DataLoader classes.\n",
    "# Does no real training and contains no network model.\n",
    "\n",
    "import torch\n",
    "import torchvision\n",
    "from torch.utils.data import Dataset, DataLoader\n",
    "import numpy as np\n",
    "import math"
   ]
  },
  {
   "cell_type": "code",
   "execution_count": 10,
   "metadata": {},
   "outputs": [],
   "source": [
    "# We will be training the network towards a classification task\n",
    "# We use the wine.csv dataset"
   ]
  },
  {
   "cell_type": "code",
   "execution_count": 20,
   "metadata": {},
   "outputs": [],
   "source": [
    "class wine(Dataset):\n",
    "    def __init__(self):\n",
    "        # load the data from file\n",
    "        dat = np.loadtxt('wine.csv',delimiter = \",\", dtype = np.float32, skiprows =1)\n",
    "        # splitting the data into input_data (x) and class_labels (y)\n",
    "        self.x = torch.from_numpy(dat[:,1:])\n",
    "        self.y = torch.from_numpy(dat[:,[0]])\n",
    "        self.num_samples = dat.shape[0]\n",
    "        \n",
    "    def __getitem__(self, index):\n",
    "        return self.x[index], self.y[index]\n",
    "    \n",
    "    def __len__(self):\n",
    "        return self.num_samples\n",
    "\n",
    "        "
   ]
  },
  {
   "cell_type": "code",
   "execution_count": 21,
   "metadata": {},
   "outputs": [],
   "source": [
    "dataset = wine()\n",
    "dataloader = DataLoader(dataset = dataset, batch_size=10, shuffle=True)"
   ]
  },
  {
   "cell_type": "code",
   "execution_count": 23,
   "metadata": {},
   "outputs": [],
   "source": [
    "# Specify hyperparameters \n",
    "total_samples = len(dataset)\n",
    "num_iterations = math.ceil(total_samples/ 10) # batch_size = 10\n",
    "num_epochs = 6\n",
    "\n",
    "for epoch in range (num_epochs):\n",
    "    for i, (inputs, labels) in enumerate(dataloader):\n",
    "        # do forward and backward pass\n",
    "        # update weights\n",
    "        pass\n",
    "    "
   ]
  },
  {
   "cell_type": "code",
   "execution_count": null,
   "metadata": {},
   "outputs": [],
   "source": []
  }
 ],
 "metadata": {
  "kernelspec": {
   "display_name": "Python 3",
   "language": "python",
   "name": "python3"
  },
  "language_info": {
   "codemirror_mode": {
    "name": "ipython",
    "version": 3
   },
   "file_extension": ".py",
   "mimetype": "text/x-python",
   "name": "python",
   "nbconvert_exporter": "python",
   "pygments_lexer": "ipython3",
   "version": "3.6.10"
  }
 },
 "nbformat": 4,
 "nbformat_minor": 4
}
