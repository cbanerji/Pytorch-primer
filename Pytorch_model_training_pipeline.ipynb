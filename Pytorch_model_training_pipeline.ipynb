{
 "cells": [
  {
   "cell_type": "code",
   "execution_count": 1,
   "metadata": {},
   "outputs": [],
   "source": [
    "# Pytorch model training pipeline\n",
    "# 1. Design Model [ define model network architecture (input_size, output_size), forward ]\n",
    "# 2. Define loss function and optimizer\n",
    "# 3. Training Loop (iterate)\n",
    "#    * forward pass: generate predictions\n",
    "#    * backward pass: Calculate loss and gradients w.r.t. network weights\n",
    "#    * update weights"
   ]
  },
  {
   "cell_type": "code",
   "execution_count": 16,
   "metadata": {},
   "outputs": [
    {
     "name": "stdout",
     "output_type": "stream",
     "text": [
      "5 samples with 1 features each.\n"
     ]
    }
   ],
   "source": [
    "import torch\n",
    "\n",
    "# Defining the training data\n",
    "x_train = torch.tensor([[1],[2],[3],[4],[5]], dtype= torch.float32)\n",
    "y_train = torch.tensor([[4],[8],[9],[12],[34]], dtype = torch.float32)\n",
    "x_test = torch.tensor([4], dtype= torch.float32) \n",
    "\n",
    "print('%s samples with %s features each.'%(x_train.shape[0],x_train.shape[1]))\n",
    "#define the network input and output sizes\n",
    "input_size = x_train.shape[1] # = no. of features per sample\n",
    "output_size = input_size"
   ]
  },
  {
   "cell_type": "code",
   "execution_count": 28,
   "metadata": {},
   "outputs": [
    {
     "name": "stdout",
     "output_type": "stream",
     "text": [
      "Prediction before training:-1.6440160274505615\n"
     ]
    }
   ],
   "source": [
    "import torch.nn as nn\n",
    "\n",
    "#---Training a barebone model network of only one layer------------------\n",
    "#model = nn.Linear(input_size, output_size)\n",
    "\n",
    "#--Training a custom model, by deriving from nn.Module--------------------\n",
    "class custModel(nn.Module):\n",
    "    def __init__(self,input_di, output_dim):\n",
    "        super(custModel,self).__init__()\n",
    "        #define network layers\n",
    "        self.lin = nn.Linear(input_size, output_size)\n",
    "    def forward(self,x):\n",
    "        return self.lin(x)\n",
    "    \n",
    "model = custModel(input_size, output_size)     \n",
    "\n",
    "print('Prediction before training:'+str(model(x_test).item()))\n",
    "loss = nn.MSELoss() # define loss\n",
    "learning_rate = 0.01 # set optimizer parameters\n",
    "optimizer =  torch.optim.SGD(model.parameters(), lr= learning_rate)# define optimizer\n"
   ]
  },
  {
   "cell_type": "code",
   "execution_count": 24,
   "metadata": {},
   "outputs": [
    {
     "name": "stdout",
     "output_type": "stream",
     "text": [
      "epoch 1: w = 1.5585389137268066, loss = 252.20051575\n",
      "epoch 11: w = 4.537471294403076, loss = 38.20763779\n",
      "epoch 21: w = 4.788862228393555, loss = 36.81623077\n",
      "epoch 31: w = 4.8552398681640625, loss = 36.41290665\n",
      "epoch 41: w = 4.907535552978516, loss = 36.04005814\n",
      "epoch 51: w = 4.957291603088379, loss = 35.69164276\n",
      "epoch 61: w = 5.005337238311768, loss = 35.36604691\n",
      "epoch 71: w = 5.0517802238464355, loss = 35.06177139\n",
      "epoch 81: w = 5.096675395965576, loss = 34.77742767\n",
      "epoch 91: w = 5.140076160430908, loss = 34.51170731\n",
      "Prediction After training:19.323768615722656\n"
     ]
    }
   ],
   "source": [
    "# training loop, run for 100 iterations\n",
    "for epoch in range(100):\n",
    "    y_pred = model(x_train) # forward pass prediction\n",
    "    l = loss(y_train, y_pred) #loss calculation\n",
    "    l.backward() #dl/dw\n",
    "    optimizer.step() # update the weight \n",
    "    optimizer.zero_grad()# turn gradients zero\n",
    "    \n",
    "    if epoch%10 ==0:\n",
    "        [w,b] = model.parameters()\n",
    "        print(f'epoch {epoch+1}: w = {w[0][0].item()}, loss = {l:.8f}')\n",
    "        \n",
    "print('Prediction After training:'+str(model(x_test).item()))"
   ]
  },
  {
   "cell_type": "code",
   "execution_count": null,
   "metadata": {},
   "outputs": [],
   "source": []
  }
 ],
 "metadata": {
  "kernelspec": {
   "display_name": "Python 3",
   "language": "python",
   "name": "python3"
  },
  "language_info": {
   "codemirror_mode": {
    "name": "ipython",
    "version": 3
   },
   "file_extension": ".py",
   "mimetype": "text/x-python",
   "name": "python",
   "nbconvert_exporter": "python",
   "pygments_lexer": "ipython3",
   "version": "3.6.10"
  }
 },
 "nbformat": 4,
 "nbformat_minor": 4
}
