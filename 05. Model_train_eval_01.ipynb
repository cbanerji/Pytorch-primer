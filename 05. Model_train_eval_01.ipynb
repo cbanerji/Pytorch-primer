{
 "cells": [
  {
   "cell_type": "code",
   "execution_count": 1,
   "metadata": {},
   "outputs": [],
   "source": [
    "# Supervised learning using a feedforward network"
   ]
  },
  {
   "cell_type": "code",
   "execution_count": 19,
   "metadata": {},
   "outputs": [
    {
     "name": "stdout",
     "output_type": "stream",
     "text": [
      "Partial view of \n",
      ": x: tensor([[-3.1416],\n",
      "        [-3.1100],\n",
      "        [-3.0784],\n",
      "        [-3.0469],\n",
      "        [-3.0153],\n",
      "        [-2.9837],\n",
      "        [-2.9521],\n",
      "        [-2.9206],\n",
      "        [-2.8890],\n",
      "        [-2.8574]]), \n",
      " y: tensor([[-1.0000],\n",
      "        [-0.9995],\n",
      "        [-0.9980],\n",
      "        [-0.9955],\n",
      "        [-0.9920],\n",
      "        [-0.9876],\n",
      "        [-0.9821],\n",
      "        [-0.9757],\n",
      "        [-0.9683],\n",
      "        [-0.9599]])\n"
     ]
    }
   ],
   "source": [
    "# Get and preprocess the data according to our requirement\n",
    "import pandas as pd\n",
    "import numpy as np\n",
    "import torch\n",
    "\n",
    "# Generate toy data\n",
    "x = np.linspace(-np.pi, np.pi, 200).reshape(-1,1)\n",
    "x = x.astype('float32')\n",
    "y = np.cos(x).reshape(-1,1)\n",
    "y = y.astype('float32')\n",
    "x = torch.from_numpy(x)\n",
    "y = torch.from_numpy(y)\n",
    "print('Partial view of \\n: x: %s, \\n y: %s' %(x[0:10,:],y[0:10,:]))"
   ]
  },
  {
   "cell_type": "code",
   "execution_count": 34,
   "metadata": {},
   "outputs": [],
   "source": [
    "from torch.utils.data import Dataset, DataLoader\n",
    "import matplotlib.pyplot as plt\n",
    "import numpy as np\n",
    "from numpy import random\n",
    "\n",
    "torch.manual_seed(78)# Set manual seed \n",
    "\n",
    "# Device configuration\n",
    "device = torch.device('cuda' if torch.cuda.is_available() else 'cpu')\n",
    "batch_size = 16"
   ]
  },
  {
   "cell_type": "code",
   "execution_count": 35,
   "metadata": {},
   "outputs": [],
   "source": [
    "# Split the training data in train and test\n",
    "train_size = int(0.8*len(x))\n",
    "test_size = len(x)- train_size\n",
    "x_train, x_test = torch.utils.data.random_split(x, [train_size, test_size])\n",
    "y_train, y_test = torch.utils.data.random_split(y, [train_size, test_size])\n",
    "\n",
    "# Following is the code for the training network.\n",
    "class CustomDataset_train(Dataset):\n",
    "    def __init__(self):\n",
    "        self.x_train = x_train\n",
    "        self.y_train = y_train\n",
    "        self.num_samples = len(x_train)\n",
    "        \n",
    "    def __getitem__(self, index):\n",
    "        return self.x_train[index], self.y_train[index]\n",
    "\n",
    "    def __len__(self):\n",
    "        return self.num_samples\n",
    "\n",
    "class CustomDataset_test(Dataset):\n",
    "\n",
    "    def __init__(self):\n",
    "        self.x_test = x_test\n",
    "        self.y_test = y_test\n",
    "        self.num_samples = len(x_test)\n",
    "\n",
    "    def __getitem__(self, index):\n",
    "        return self.x_test[index], self.y_test[index]\n",
    "\n",
    "    def __len__(self):\n",
    "        return self.num_samples\n",
    "\n",
    "data_train = CustomDataset_train()\n",
    "data_test = CustomDataset_test()\n",
    "trainloader = DataLoader(dataset = data_train, batch_size=batch_size, shuffle=True)\n",
    "testloader = DataLoader(dataset = data_test, batch_size=batch_size, shuffle=True)\n"
   ]
  },
  {
   "cell_type": "code",
   "execution_count": 36,
   "metadata": {},
   "outputs": [
    {
     "name": "stdout",
     "output_type": "stream",
     "text": [
      "myModel(\n",
      "  (fc1): Linear(in_features=1, out_features=128, bias=True)\n",
      "  (relu): ReLU()\n",
      "  (fc2): Linear(in_features=128, out_features=1, bias=True)\n",
      ")\n"
     ]
    }
   ],
   "source": [
    "import torch.nn as nn\n",
    "input_size = x.shape[1]\n",
    "output_size = y.shape[1]\n",
    "\n",
    "# define network architecture\n",
    "class myModel(nn.Module):\n",
    "    def __init__(self,input_dim, output_dim, hidden_size =128):\n",
    "        super(myModel, self).__init__()\n",
    "        #define network layers\n",
    "        self.fc1 = nn.Linear(input_size, hidden_size)\n",
    "        self.relu = nn.ReLU()\n",
    "        self.fc2 = nn.Linear(hidden_size, output_size)\n",
    "      \n",
    "    def forward(self,x):\n",
    "        out = self.fc1(x)\n",
    "        out = self.relu(out)\n",
    "        out = self.fc2(out)\n",
    "        return out\n",
    "    \n",
    "model = myModel(input_size, output_size)\n",
    "print(model)"
   ]
  },
  {
   "cell_type": "code",
   "execution_count": 37,
   "metadata": {},
   "outputs": [],
   "source": [
    "#define loss function, optimizer and hyperparameters\n",
    "loss = torch.nn.MSELoss()\n",
    "learning_rate = 0.0001\n",
    "optimizer = torch.optim.Adam(model.parameters(), lr=learning_rate)  \n",
    "num_epochs =100\n",
    "total_step = len(trainloader)"
   ]
  },
  {
   "cell_type": "markdown",
   "metadata": {},
   "source": [
    "\n"
   ]
  },
  {
   "cell_type": "code",
   "execution_count": 38,
   "metadata": {},
   "outputs": [
    {
     "name": "stdout",
     "output_type": "stream",
     "text": [
      "Epoch: 1, overall Loss: 8.277281820774078\n",
      "Epoch: 2, overall Loss: 7.656789243221283\n",
      "Epoch: 3, overall Loss: 7.196322649717331\n",
      "Epoch: 4, overall Loss: 6.7521155178546906\n",
      "Epoch: 5, overall Loss: 6.434007972478867\n",
      "Epoch: 6, overall Loss: 6.142618626356125\n",
      "Epoch: 7, overall Loss: 5.934903025627136\n",
      "Epoch: 8, overall Loss: 5.767867177724838\n",
      "Epoch: 9, overall Loss: 5.627138555049896\n",
      "Epoch: 10, overall Loss: 5.524194777011871\n",
      "Epoch: 11, overall Loss: 5.453497499227524\n",
      "Epoch: 12, overall Loss: 5.397998034954071\n",
      "Epoch: 13, overall Loss: 5.348764628171921\n",
      "Epoch: 14, overall Loss: 5.31639438867569\n",
      "Epoch: 15, overall Loss: 5.289619892835617\n",
      "Epoch: 16, overall Loss: 5.275210291147232\n",
      "Epoch: 17, overall Loss: 5.270663768053055\n",
      "Epoch: 18, overall Loss: 5.252311170101166\n",
      "Epoch: 19, overall Loss: 5.248828828334808\n",
      "Epoch: 20, overall Loss: 5.241208493709564\n",
      "Epoch: 21, overall Loss: 5.237889438867569\n",
      "Epoch: 22, overall Loss: 5.236937522888184\n",
      "Epoch: 23, overall Loss: 5.234429270029068\n",
      "Epoch: 24, overall Loss: 5.231446266174316\n",
      "Epoch: 25, overall Loss: 5.231088489294052\n",
      "Epoch: 26, overall Loss: 5.230896085500717\n",
      "Epoch: 27, overall Loss: 5.2267454862594604\n",
      "Epoch: 28, overall Loss: 5.22749862074852\n",
      "Epoch: 29, overall Loss: 5.230928897857666\n",
      "Epoch: 30, overall Loss: 5.224863737821579\n",
      "Epoch: 31, overall Loss: 5.230248123407364\n",
      "Epoch: 32, overall Loss: 5.225159198045731\n",
      "Epoch: 33, overall Loss: 5.223569869995117\n",
      "Epoch: 34, overall Loss: 5.231805145740509\n",
      "Epoch: 35, overall Loss: 5.227798968553543\n",
      "Epoch: 36, overall Loss: 5.220864176750183\n",
      "Epoch: 37, overall Loss: 5.220003068447113\n",
      "Epoch: 38, overall Loss: 5.2204949259758\n",
      "Epoch: 39, overall Loss: 5.2252317070961\n",
      "Epoch: 40, overall Loss: 5.217774897813797\n",
      "Epoch: 41, overall Loss: 5.224354118108749\n",
      "Epoch: 42, overall Loss: 5.215825438499451\n",
      "Epoch: 43, overall Loss: 5.216921120882034\n",
      "Epoch: 44, overall Loss: 5.220150142908096\n",
      "Epoch: 45, overall Loss: 5.21793058514595\n",
      "Epoch: 46, overall Loss: 5.215578496456146\n",
      "Epoch: 47, overall Loss: 5.213128358125687\n",
      "Epoch: 48, overall Loss: 5.215266048908234\n",
      "Epoch: 49, overall Loss: 5.216008961200714\n",
      "Epoch: 50, overall Loss: 5.21132493019104\n",
      "Epoch: 51, overall Loss: 5.210827082395554\n",
      "Epoch: 52, overall Loss: 5.209201514720917\n",
      "Epoch: 53, overall Loss: 5.213277220726013\n",
      "Epoch: 54, overall Loss: 5.209102928638458\n",
      "Epoch: 55, overall Loss: 5.213285505771637\n",
      "Epoch: 56, overall Loss: 5.208847880363464\n",
      "Epoch: 57, overall Loss: 5.208557277917862\n",
      "Epoch: 58, overall Loss: 5.206931620836258\n",
      "Epoch: 59, overall Loss: 5.205179393291473\n",
      "Epoch: 60, overall Loss: 5.205154746770859\n",
      "Epoch: 61, overall Loss: 5.205575883388519\n",
      "Epoch: 62, overall Loss: 5.2010199427604675\n",
      "Epoch: 63, overall Loss: 5.201466351747513\n",
      "Epoch: 64, overall Loss: 5.201564699411392\n",
      "Epoch: 65, overall Loss: 5.200246423482895\n",
      "Epoch: 66, overall Loss: 5.200713127851486\n",
      "Epoch: 67, overall Loss: 5.20335590839386\n",
      "Epoch: 68, overall Loss: 5.197533547878265\n",
      "Epoch: 69, overall Loss: 5.199537694454193\n",
      "Epoch: 70, overall Loss: 5.200078308582306\n",
      "Epoch: 71, overall Loss: 5.199306011199951\n",
      "Epoch: 72, overall Loss: 5.196580797433853\n",
      "Epoch: 73, overall Loss: 5.1980259120464325\n",
      "Epoch: 74, overall Loss: 5.1978790163993835\n",
      "Epoch: 75, overall Loss: 5.1960607171058655\n",
      "Epoch: 76, overall Loss: 5.192818611860275\n",
      "Epoch: 77, overall Loss: 5.194092154502869\n",
      "Epoch: 78, overall Loss: 5.194336473941803\n",
      "Epoch: 79, overall Loss: 5.197355657815933\n",
      "Epoch: 80, overall Loss: 5.191992431879044\n",
      "Epoch: 81, overall Loss: 5.192875027656555\n",
      "Epoch: 82, overall Loss: 5.195154547691345\n",
      "Epoch: 83, overall Loss: 5.18990883231163\n",
      "Epoch: 84, overall Loss: 5.1891525983810425\n",
      "Epoch: 85, overall Loss: 5.189405411481857\n",
      "Epoch: 86, overall Loss: 5.188197165727615\n",
      "Epoch: 87, overall Loss: 5.187389105558395\n",
      "Epoch: 88, overall Loss: 5.18840029835701\n",
      "Epoch: 89, overall Loss: 5.1855482161045074\n",
      "Epoch: 90, overall Loss: 5.186588883399963\n",
      "Epoch: 91, overall Loss: 5.184578239917755\n",
      "Epoch: 92, overall Loss: 5.187565237283707\n",
      "Epoch: 93, overall Loss: 5.186336576938629\n",
      "Epoch: 94, overall Loss: 5.183679014444351\n",
      "Epoch: 95, overall Loss: 5.189189314842224\n",
      "Epoch: 96, overall Loss: 5.181376934051514\n",
      "Epoch: 97, overall Loss: 5.183247745037079\n",
      "Epoch: 98, overall Loss: 5.184228807687759\n",
      "Epoch: 99, overall Loss: 5.186034590005875\n",
      "Epoch: 100, overall Loss: 5.179982393980026\n"
     ]
    },
    {
     "data": {
      "text/plain": [
       "[<matplotlib.lines.Line2D at 0x7f7f580d6d68>]"
      ]
     },
     "execution_count": 38,
     "metadata": {},
     "output_type": "execute_result"
    },
    {
     "data": {
      "image/png": "[encoded data removed]",
      "text/plain": [
       "<Figure size 432x288 with 1 Axes>"
      ]
     },
     "metadata": {
      "needs_background": "light"
     },
     "output_type": "display_data"
    }
   ],
   "source": [
    "los_list = []\n",
    "for epoch in range(num_epochs):\n",
    "    overall_loss = 0\n",
    "    for i, (inputs, labels) in enumerate(trainloader):\n",
    "        inputs = inputs.to(device)\n",
    "        labels = labels.to(device)\n",
    "        \n",
    "        # Forward pass\n",
    "        y_pred = model(inputs)\n",
    "        l = loss(y_pred, labels)\n",
    "        \n",
    "        # Backward pass and optimize\n",
    "        l.backward()\n",
    "        optimizer.step()\n",
    "        optimizer.zero_grad()\n",
    "        \n",
    "        overall_loss += l.item()\n",
    "        \n",
    "    print('Epoch: %s, overall Loss: %s'%(epoch+1,overall_loss))\n",
    "    los_list.append(overall_loss)\n",
    "    \n",
    "\n",
    "ep = np.arange(len(los_list))\n",
    "plt.plot(ep,los_list)"
   ]
  },
  {
   "cell_type": "code",
   "execution_count": 42,
   "metadata": {},
   "outputs": [
    {
     "name": "stdout",
     "output_type": "stream",
     "text": [
      "0.44773635268211365\n",
      "0.9077961146831512\n",
      "1.2972548305988312\n"
     ]
    }
   ],
   "source": [
    "loss_test = []\n",
    "with torch.no_grad():\n",
    "    overall_test_loss = 0\n",
    "    for inputs, labels in testloader:\n",
    "        inputs = inputs.to(device)\n",
    "        labels = labels.to(device)\n",
    "        pred = model(inputs)\n",
    "        lo = loss(pred, labels)\n",
    "        overall_test_loss += lo.item()\n",
    "        print(overall_test_loss)\n",
    "    loss_test.append(overall_test_loss)"
   ]
  },
  {
   "cell_type": "code",
   "execution_count": null,
   "metadata": {},
   "outputs": [],
   "source": []
  }
 ],
 "metadata": {
  "kernelspec": {
   "display_name": "Python 3",
   "language": "python",
   "name": "python3"
  },
  "language_info": {
   "codemirror_mode": {
    "name": "ipython",
    "version": 3
   },
   "file_extension": ".py",
   "mimetype": "text/x-python",
   "name": "python",
   "nbconvert_exporter": "python",
   "pygments_lexer": "ipython3",
   "version": "3.6.10"
  }
 },
 "nbformat": 4,
 "nbformat_minor": 4
}
